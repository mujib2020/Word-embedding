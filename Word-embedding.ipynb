{
 "cells": [
  {
   "cell_type": "markdown",
   "id": "de3ef257",
   "metadata": {},
   "source": [
    " \n",
    " # Word2Vec tutorial using GENSIM\n",
    " \n",
    " In this tutorial we first show how to use pretrained models, then we train our own model with custom dataset. \n",
    " \n",
    " ### Part 1:  Pretrained models\n",
    " Gensim comes with several already pre-trained models\n"
   ]
  },
  {
   "cell_type": "code",
   "execution_count": null,
   "id": "341ca0d8",
   "metadata": {},
   "outputs": [],
   "source": [
    "# install gensim package to load and use the model\n",
    "!pip install gensim"
   ]
  },
  {
   "cell_type": "code",
   "execution_count": 13,
   "id": "12d53acd",
   "metadata": {},
   "outputs": [],
   "source": [
    "import gensim"
   ]
  },
  {
   "cell_type": "markdown",
   "id": "cd7dcbbb",
   "metadata": {},
   "source": [
    "We will load the model, demonstrate some features of the gensim package, and then compute a sentence vector using the word embeddings"
   ]
  },
  {
   "cell_type": "code",
   "execution_count": 2,
   "id": "4f539e02",
   "metadata": {},
   "outputs": [],
   "source": [
    "import gensim.downloader as gensim_pretrained"
   ]
  },
  {
   "cell_type": "code",
   "execution_count": 3,
   "id": "87ae9cec",
   "metadata": {},
   "outputs": [
    {
     "name": "stdout",
     "output_type": "stream",
     "text": [
      "['fasttext-wiki-news-subwords-300', 'conceptnet-numberbatch-17-06-300', 'word2vec-ruscorpora-300', 'word2vec-google-news-300', 'glove-wiki-gigaword-50', 'glove-wiki-gigaword-100', 'glove-wiki-gigaword-200', 'glove-wiki-gigaword-300', 'glove-twitter-25', 'glove-twitter-50', 'glove-twitter-100', 'glove-twitter-200', '__testing_word2vec-matrix-synopsis']\n"
     ]
    }
   ],
   "source": [
    "import gensim.downloader\n",
    "print(list(gensim.downloader.info()['models'].keys()))"
   ]
  },
  {
   "cell_type": "code",
   "execution_count": 4,
   "id": "74725e7f",
   "metadata": {},
   "outputs": [
    {
     "data": {
      "text/plain": [
       "[('__testing_word2vec-matrix-synopsis',\n",
       "  {'description': '[THIS IS ONLY FOR TESTING] Word vecrors of the movie matrix.',\n",
       "   'parameters': {'dimensions': 50},\n",
       "   'preprocessing': 'Converted to w2v using a preprocessed corpus. Converted to w2v format with `python3.5 -m gensim.models.word2vec -train <input_filename> -iter 50 -output <output_filename>`.',\n",
       "   'read_more': [],\n",
       "   'checksum': '534dcb8b56a360977a269b7bfc62d124',\n",
       "   'file_name': '__testing_word2vec-matrix-synopsis.gz',\n",
       "   'parts': 1})]"
      ]
     },
     "execution_count": 4,
     "metadata": {},
     "output_type": "execute_result"
    }
   ],
   "source": [
    "info = gensim_pretrained.info()\n",
    "sorted(info[\"models\"].items())[:1]"
   ]
  },
  {
   "cell_type": "code",
   "execution_count": 3,
   "id": "daa63f06",
   "metadata": {},
   "outputs": [
    {
     "name": "stdout",
     "output_type": "stream",
     "text": [
      "__testing_word2vec-matrix-synopsis (-1 records) : [THIS IS ONLY FOR TE...\n",
      "conceptnet-numberbatch-17-06-300 (1917247 records) : ConceptNet Numberbat...\n",
      "fasttext-wiki-news-subwords-300 (999999 records) : 1 million word vecto...\n",
      "glove-twitter-100 (1193514 records) : Pre-trained vectors ...\n",
      "glove-twitter-200 (1193514 records) : Pre-trained vectors ...\n",
      "glove-twitter-25 (1193514 records) : Pre-trained vectors ...\n",
      "glove-twitter-50 (1193514 records) : Pre-trained vectors ...\n",
      "glove-wiki-gigaword-100 (400000 records) : Pre-trained vectors ...\n",
      "glove-wiki-gigaword-200 (400000 records) : Pre-trained vectors ...\n",
      "glove-wiki-gigaword-300 (400000 records) : Pre-trained vectors ...\n",
      "glove-wiki-gigaword-50 (400000 records) : Pre-trained vectors ...\n",
      "word2vec-google-news-300 (3000000 records) : Pre-trained vectors ...\n",
      "word2vec-ruscorpora-300 (184973 records) : Word2vec Continuous ...\n"
     ]
    }
   ],
   "source": [
    "for model_name, model_data in sorted(info[\"models\"].items()):\n",
    "    print(\n",
    "            '%s (%d records) : %s' % \n",
    "            (\n",
    "            model_name,\n",
    "            model_data.get('num_records', -1),\n",
    "            model_data['description'][:20]+ '...'\n",
    "            )\n",
    "        )"
   ]
  },
  {
   "cell_type": "code",
   "execution_count": null,
   "id": "59d6ff98",
   "metadata": {},
   "outputs": [],
   "source": []
  },
  {
   "cell_type": "code",
   "execution_count": 4,
   "id": "0c475776",
   "metadata": {},
   "outputs": [
    {
     "name": "stdout",
     "output_type": "stream",
     "text": [
      "[==================================================] 100.0% 958.5/958.4MB downloaded\n",
      "[==================================================] 100.0% 387.1/387.1MB downloaded\n",
      "[==================================================] 100.0% 1662.8/1662.8MB downloaded\n"
     ]
    }
   ],
   "source": [
    "# Let's explore different types of word-embeddings\n",
    "\n",
    "# fasttext : # Download the \"glove-twitter-25\" embeddings\n",
    "fasttext = gensim_pretrained.load('fasttext-wiki-news-subwords-300')\n",
    "\n",
    "# golve\n",
    "glove = gensim_pretrained.load('glove-twitter-50')\n",
    "\n",
    "# Word2Vec\n",
    "w2v = gensim_pretrained.load(\"word2vec-google-news-300\")\n",
    "\n"
   ]
  },
  {
   "cell_type": "code",
   "execution_count": 5,
   "id": "e89a28cb",
   "metadata": {},
   "outputs": [
    {
     "data": {
      "text/plain": [
       "[('woman', 0.8119808435440063),\n",
       " ('man--', 0.7323855757713318),\n",
       " ('man--and', 0.7230692505836487),\n",
       " ('person', 0.7203925848007202),\n",
       " ('mad-man', 0.7037578225135803),\n",
       " ('guy', 0.6992257833480835),\n",
       " ('god-man', 0.69350266456604),\n",
       " ('boy-man', 0.6925113797187805),\n",
       " ('man--the', 0.6904609203338623),\n",
       " ('man-love', 0.687400221824646)]"
      ]
     },
     "execution_count": 5,
     "metadata": {},
     "output_type": "execute_result"
    }
   ],
   "source": [
    "# Now let's try to find similar words \n",
    "\n",
    "fasttext.most_similar('man')"
   ]
  },
  {
   "cell_type": "code",
   "execution_count": 6,
   "id": "1d5cfc2e",
   "metadata": {},
   "outputs": [
    {
     "data": {
      "text/plain": [
       "[('boy', 0.7652449011802673),\n",
       " ('dude', 0.752370297908783),\n",
       " ('guy', 0.737877368927002),\n",
       " ('was', 0.7247805595397949),\n",
       " (\"'s\", 0.7206680774688721),\n",
       " ('bad', 0.7175806164741516),\n",
       " ('men', 0.7122883200645447),\n",
       " ('hell', 0.7033430337905884),\n",
       " ('shit', 0.7005720138549805),\n",
       " ('that', 0.6958515644073486)]"
      ]
     },
     "execution_count": 6,
     "metadata": {},
     "output_type": "execute_result"
    }
   ],
   "source": [
    "glove.most_similar('man')"
   ]
  },
  {
   "cell_type": "code",
   "execution_count": 9,
   "id": "6b7ddae9",
   "metadata": {},
   "outputs": [],
   "source": [
    "# w2v.most_similar('man')"
   ]
  },
  {
   "cell_type": "code",
   "execution_count": 15,
   "id": "60f40bb1",
   "metadata": {},
   "outputs": [
    {
     "data": {
      "text/plain": [
       "0.4535101056098938"
      ]
     },
     "execution_count": 15,
     "metadata": {},
     "output_type": "execute_result"
    }
   ],
   "source": [
    "# Now find the distance between similar words and non-similar\n",
    "\n",
    "fasttext.distance(\"man\", \"women\")\n"
   ]
  },
  {
   "cell_type": "code",
   "execution_count": 16,
   "id": "dd7c5d24",
   "metadata": {},
   "outputs": [
    {
     "data": {
      "text/plain": [
       "0.5612933933734894"
      ]
     },
     "execution_count": 16,
     "metadata": {},
     "output_type": "execute_result"
    }
   ],
   "source": [
    "fasttext.distance(\"man\", \"cat\")"
   ]
  },
  {
   "cell_type": "code",
   "execution_count": 17,
   "id": "3a837a25",
   "metadata": {},
   "outputs": [
    {
     "data": {
      "text/plain": [
       "0.4418826699256897"
      ]
     },
     "execution_count": 17,
     "metadata": {},
     "output_type": "execute_result"
    }
   ],
   "source": [
    "glove.distance(\"man\",\"women\")"
   ]
  },
  {
   "cell_type": "code",
   "execution_count": 18,
   "id": "624465b1",
   "metadata": {},
   "outputs": [
    {
     "data": {
      "text/plain": [
       "0.6139519810676575"
      ]
     },
     "execution_count": 18,
     "metadata": {},
     "output_type": "execute_result"
    }
   ],
   "source": [
    "glove.distance(\"man\",\"tree\")"
   ]
  },
  {
   "cell_type": "code",
   "execution_count": 20,
   "id": "7396b098",
   "metadata": {},
   "outputs": [
    {
     "data": {
      "text/plain": [
       "0.7706254124641418"
      ]
     },
     "execution_count": 20,
     "metadata": {},
     "output_type": "execute_result"
    }
   ],
   "source": [
    "w2v.distance(\"man\",\"tree\")"
   ]
  },
  {
   "cell_type": "code",
   "execution_count": 22,
   "id": "644db86e",
   "metadata": {},
   "outputs": [
    {
     "data": {
      "text/plain": [
       "[('royal', 0.9480992555618286),\n",
       " ('queen', 0.8974658846855164),\n",
       " ('african', 0.8896613717079163),\n",
       " ('american', 0.8735426068305969),\n",
       " ('heritage', 0.8707107305526733),\n",
       " ('republic', 0.8638789653778076),\n",
       " ('luxury', 0.858354389667511),\n",
       " ('goddess', 0.85495924949646),\n",
       " ('british', 0.8545292615890503),\n",
       " ('egyptian', 0.8537889122962952)]"
      ]
     },
     "execution_count": 22,
     "metadata": {},
     "output_type": "execute_result"
    }
   ],
   "source": [
    "# \"king\"-\"man\"+\"women\" = 'queen'\n",
    "\n",
    "glove.most_similar_cosmul(positive=[\"king\",\"women\"], negative = [\"man\"])"
   ]
  },
  {
   "cell_type": "code",
   "execution_count": 24,
   "id": "1947684b",
   "metadata": {},
   "outputs": [
    {
     "data": {
      "text/plain": [
       "[('kings', 0.9261068105697632),\n",
       " ('queens', 0.9183101654052734),\n",
       " ('monarchs', 0.8894803524017334),\n",
       " ('queen', 0.8843674659729004),\n",
       " ('princesses', 0.8770883679389954),\n",
       " ('kingships', 0.8723795413970947),\n",
       " ('noblewomen', 0.8700087070465088),\n",
       " ('co-rulers', 0.8698115348815918),\n",
       " ('princes', 0.8625684380531311),\n",
       " ('rulers', 0.8621167540550232)]"
      ]
     },
     "execution_count": 24,
     "metadata": {},
     "output_type": "execute_result"
    }
   ],
   "source": [
    "fasttext.most_similar_cosmul(positive=[\"king\",\"women\"], negative = [\"man\"])"
   ]
  },
  {
   "cell_type": "code",
   "execution_count": 25,
   "id": "7c5ff42e",
   "metadata": {},
   "outputs": [
    {
     "data": {
      "text/plain": [
       "[('baseball', 0.837321400642395),\n",
       " ('batters', 0.832930862903595),\n",
       " ('crickets', 0.8299791216850281),\n",
       " ('batterings', 0.82322758436203),\n",
       " ('battering', 0.8182348608970642),\n",
       " ('bat-and-ball', 0.8147028088569641),\n",
       " ('pitch', 0.813496470451355),\n",
       " ('ground', 0.8052932024002075),\n",
       " ('battery', 0.8052542805671692),\n",
       " ('batting-practice', 0.8051658868789673)]"
      ]
     },
     "execution_count": 25,
     "metadata": {},
     "output_type": "execute_result"
    }
   ],
   "source": [
    "fasttext.most_similar_cosmul(positive=[\"cricket\",\"batter\"], negative = [\"bowler\"])"
   ]
  },
  {
   "cell_type": "markdown",
   "id": "168f3ef4",
   "metadata": {},
   "source": [
    "### Part 2: Training the Word2Vec Model for a custom dataset\n",
    "\n",
    "Dataset source: https://cseweb.ucsd.edu/~jmcauley/datasets/amazon_v2/#subsets\n",
    "\n"
   ]
  },
  {
   "cell_type": "code",
   "execution_count": 1,
   "id": "7fe21e0e",
   "metadata": {},
   "outputs": [],
   "source": [
    "import pandas as pd"
   ]
  },
  {
   "cell_type": "code",
   "execution_count": 7,
   "id": "b4d2bcbb",
   "metadata": {},
   "outputs": [
    {
     "data": {
      "text/html": [
       "<div>\n",
       "<style scoped>\n",
       "    .dataframe tbody tr th:only-of-type {\n",
       "        vertical-align: middle;\n",
       "    }\n",
       "\n",
       "    .dataframe tbody tr th {\n",
       "        vertical-align: top;\n",
       "    }\n",
       "\n",
       "    .dataframe thead th {\n",
       "        text-align: right;\n",
       "    }\n",
       "</style>\n",
       "<table border=\"1\" class=\"dataframe\">\n",
       "  <thead>\n",
       "    <tr style=\"text-align: right;\">\n",
       "      <th></th>\n",
       "      <th>overall</th>\n",
       "      <th>vote</th>\n",
       "      <th>verified</th>\n",
       "      <th>reviewTime</th>\n",
       "      <th>reviewerID</th>\n",
       "      <th>asin</th>\n",
       "      <th>style</th>\n",
       "      <th>reviewerName</th>\n",
       "      <th>reviewText</th>\n",
       "      <th>summary</th>\n",
       "      <th>unixReviewTime</th>\n",
       "      <th>image</th>\n",
       "    </tr>\n",
       "  </thead>\n",
       "  <tbody>\n",
       "    <tr>\n",
       "      <th>0</th>\n",
       "      <td>5</td>\n",
       "      <td>2</td>\n",
       "      <td>False</td>\n",
       "      <td>11 27, 2013</td>\n",
       "      <td>A3NHUQ33CFH3VM</td>\n",
       "      <td>1118461304</td>\n",
       "      <td>{'Format:': ' Hardcover'}</td>\n",
       "      <td>Greeny</td>\n",
       "      <td>Not one thing in this book seemed an obvious o...</td>\n",
       "      <td>Clear on what leads to innovation</td>\n",
       "      <td>1385510400</td>\n",
       "      <td>NaN</td>\n",
       "    </tr>\n",
       "    <tr>\n",
       "      <th>1</th>\n",
       "      <td>5</td>\n",
       "      <td>NaN</td>\n",
       "      <td>False</td>\n",
       "      <td>11 1, 2013</td>\n",
       "      <td>A3SK6VNBQDNBJE</td>\n",
       "      <td>1118461304</td>\n",
       "      <td>{'Format:': ' Kindle Edition'}</td>\n",
       "      <td>Leif C. Ulstrup</td>\n",
       "      <td>I have enjoyed Dr. Alan Gregerman's weekly blo...</td>\n",
       "      <td>Becoming more innovative by opening yourself t...</td>\n",
       "      <td>1383264000</td>\n",
       "      <td>NaN</td>\n",
       "    </tr>\n",
       "    <tr>\n",
       "      <th>2</th>\n",
       "      <td>5</td>\n",
       "      <td>NaN</td>\n",
       "      <td>False</td>\n",
       "      <td>10 10, 2013</td>\n",
       "      <td>A3SOFHUR27FO3K</td>\n",
       "      <td>1118461304</td>\n",
       "      <td>{'Format:': ' Hardcover'}</td>\n",
       "      <td>Harry Gilbert Miller III</td>\n",
       "      <td>Alan Gregerman believes that innovation comes ...</td>\n",
       "      <td>The World from Different Perspectives</td>\n",
       "      <td>1381363200</td>\n",
       "      <td>NaN</td>\n",
       "    </tr>\n",
       "  </tbody>\n",
       "</table>\n",
       "</div>"
      ],
      "text/plain": [
       "   overall vote  verified   reviewTime      reviewerID        asin  \\\n",
       "0        5    2     False  11 27, 2013  A3NHUQ33CFH3VM  1118461304   \n",
       "1        5  NaN     False   11 1, 2013  A3SK6VNBQDNBJE  1118461304   \n",
       "2        5  NaN     False  10 10, 2013  A3SOFHUR27FO3K  1118461304   \n",
       "\n",
       "                            style              reviewerName  \\\n",
       "0       {'Format:': ' Hardcover'}                    Greeny   \n",
       "1  {'Format:': ' Kindle Edition'}           Leif C. Ulstrup   \n",
       "2       {'Format:': ' Hardcover'}  Harry Gilbert Miller III   \n",
       "\n",
       "                                          reviewText  \\\n",
       "0  Not one thing in this book seemed an obvious o...   \n",
       "1  I have enjoyed Dr. Alan Gregerman's weekly blo...   \n",
       "2  Alan Gregerman believes that innovation comes ...   \n",
       "\n",
       "                                             summary  unixReviewTime image  \n",
       "0                  Clear on what leads to innovation      1385510400   NaN  \n",
       "1  Becoming more innovative by opening yourself t...      1383264000   NaN  \n",
       "2              The World from Different Perspectives      1381363200   NaN  "
      ]
     },
     "execution_count": 7,
     "metadata": {},
     "output_type": "execute_result"
    }
   ],
   "source": [
    "df_0 = pd.read_json(\"Appliances.json\", lines=True)\n",
    "# df = pd.read_json(\"reviews_Amazon_Coins2.json\", lines=True, encoding=\"utf-8\")\n",
    "\n",
    "df_0.head(3)\n"
   ]
  },
  {
   "cell_type": "code",
   "execution_count": 8,
   "id": "0ebafd68",
   "metadata": {},
   "outputs": [
    {
     "data": {
      "text/plain": [
       "(602777, 12)"
      ]
     },
     "execution_count": 8,
     "metadata": {},
     "output_type": "execute_result"
    }
   ],
   "source": [
    "df_0.shape"
   ]
  },
  {
   "cell_type": "markdown",
   "id": "2cf2f33b",
   "metadata": {},
   "source": [
    "This is huge dataset. Since, we are working on a local machine with CPU, let's dowload and load smaller version of the same dataset."
   ]
  },
  {
   "cell_type": "code",
   "execution_count": 9,
   "id": "51021f33",
   "metadata": {},
   "outputs": [
    {
     "data": {
      "text/html": [
       "<div>\n",
       "<style scoped>\n",
       "    .dataframe tbody tr th:only-of-type {\n",
       "        vertical-align: middle;\n",
       "    }\n",
       "\n",
       "    .dataframe tbody tr th {\n",
       "        vertical-align: top;\n",
       "    }\n",
       "\n",
       "    .dataframe thead th {\n",
       "        text-align: right;\n",
       "    }\n",
       "</style>\n",
       "<table border=\"1\" class=\"dataframe\">\n",
       "  <thead>\n",
       "    <tr style=\"text-align: right;\">\n",
       "      <th></th>\n",
       "      <th>overall</th>\n",
       "      <th>verified</th>\n",
       "      <th>reviewTime</th>\n",
       "      <th>reviewerID</th>\n",
       "      <th>asin</th>\n",
       "      <th>style</th>\n",
       "      <th>reviewerName</th>\n",
       "      <th>reviewText</th>\n",
       "      <th>summary</th>\n",
       "      <th>unixReviewTime</th>\n",
       "      <th>vote</th>\n",
       "      <th>image</th>\n",
       "    </tr>\n",
       "  </thead>\n",
       "  <tbody>\n",
       "    <tr>\n",
       "      <th>0</th>\n",
       "      <td>5</td>\n",
       "      <td>True</td>\n",
       "      <td>08 22, 2013</td>\n",
       "      <td>A34A1UP40713F8</td>\n",
       "      <td>B00009W3I4</td>\n",
       "      <td>{'Style:': ' Dryer Vent'}</td>\n",
       "      <td>James. Backus</td>\n",
       "      <td>I like this as a vent as well as something tha...</td>\n",
       "      <td>Great product</td>\n",
       "      <td>1377129600</td>\n",
       "      <td>NaN</td>\n",
       "      <td>NaN</td>\n",
       "    </tr>\n",
       "    <tr>\n",
       "      <th>1</th>\n",
       "      <td>5</td>\n",
       "      <td>True</td>\n",
       "      <td>02 8, 2016</td>\n",
       "      <td>A1AHW6I678O6F2</td>\n",
       "      <td>B00009W3PA</td>\n",
       "      <td>{'Size:': ' 6-Foot'}</td>\n",
       "      <td>kevin.</td>\n",
       "      <td>good item</td>\n",
       "      <td>Five Stars</td>\n",
       "      <td>1454889600</td>\n",
       "      <td>NaN</td>\n",
       "      <td>NaN</td>\n",
       "    </tr>\n",
       "  </tbody>\n",
       "</table>\n",
       "</div>"
      ],
      "text/plain": [
       "   overall  verified   reviewTime      reviewerID        asin  \\\n",
       "0        5      True  08 22, 2013  A34A1UP40713F8  B00009W3I4   \n",
       "1        5      True   02 8, 2016  A1AHW6I678O6F2  B00009W3PA   \n",
       "\n",
       "                       style   reviewerName  \\\n",
       "0  {'Style:': ' Dryer Vent'}  James. Backus   \n",
       "1       {'Size:': ' 6-Foot'}         kevin.   \n",
       "\n",
       "                                          reviewText        summary  \\\n",
       "0  I like this as a vent as well as something tha...  Great product   \n",
       "1                                          good item     Five Stars   \n",
       "\n",
       "   unixReviewTime vote image  \n",
       "0      1377129600  NaN   NaN  \n",
       "1      1454889600  NaN   NaN  "
      ]
     },
     "execution_count": 9,
     "metadata": {},
     "output_type": "execute_result"
    }
   ],
   "source": [
    "df = pd.read_json(\"Appliances_5.json\", lines=True)\n",
    "df.head(2)"
   ]
  },
  {
   "cell_type": "code",
   "execution_count": 10,
   "id": "df3f7bcc",
   "metadata": {},
   "outputs": [
    {
     "data": {
      "text/plain": [
       "(2277, 12)"
      ]
     },
     "execution_count": 10,
     "metadata": {},
     "output_type": "execute_result"
    }
   ],
   "source": [
    "df.shape"
   ]
  },
  {
   "cell_type": "markdown",
   "id": "5b1a1b59",
   "metadata": {},
   "source": [
    "##### Initial Text Processing and Tokenization\n",
    "Before embarking on any data science project, it's crucial to prepare the data. In the realm of NLP, this often involves basic tasks such as lowering all letter cases, trimming extra spaces, and discarding punctuation.\n",
    "\n",
    "Furthermore, it's common to eliminate stop words—common words like 'and', 'or', 'is', 'the', 'a', and 'an'—and to reduce words to their base form, turning 'running' into 'run', for example."
   ]
  },
  {
   "cell_type": "code",
   "execution_count": 11,
   "id": "789b3a64",
   "metadata": {},
   "outputs": [
    {
     "data": {
      "text/plain": [
       "'I like this as a vent as well as something that will keep house warmer in winter.  I sanded it and then painted it the same color as the house.  Looks great.'"
      ]
     },
     "execution_count": 11,
     "metadata": {},
     "output_type": "execute_result"
    }
   ],
   "source": [
    "df.reviewText[0]"
   ]
  },
  {
   "cell_type": "code",
   "execution_count": 19,
   "id": "736b79e2",
   "metadata": {},
   "outputs": [
    {
     "data": {
      "text/plain": [
       "['like',\n",
       " 'this',\n",
       " 'as',\n",
       " 'vent',\n",
       " 'as',\n",
       " 'well',\n",
       " 'as',\n",
       " 'something',\n",
       " 'that',\n",
       " 'will',\n",
       " 'keep',\n",
       " 'house',\n",
       " 'warmer',\n",
       " 'in',\n",
       " 'winter',\n",
       " 'sanded',\n",
       " 'it',\n",
       " 'and',\n",
       " 'then',\n",
       " 'painted',\n",
       " 'it',\n",
       " 'the',\n",
       " 'same',\n",
       " 'color',\n",
       " 'as',\n",
       " 'the',\n",
       " 'house',\n",
       " 'looks',\n",
       " 'great']"
      ]
     },
     "execution_count": 19,
     "metadata": {},
     "output_type": "execute_result"
    }
   ],
   "source": [
    "gensim.utils.simple_preprocess(df.reviewText[0])"
   ]
  },
  {
   "cell_type": "markdown",
   "id": "06e46f62",
   "metadata": {},
   "source": [
    "Let's apply this for all the rows"
   ]
  },
  {
   "cell_type": "code",
   "execution_count": 15,
   "id": "95a2d8e5",
   "metadata": {},
   "outputs": [],
   "source": [
    "reviewText = df.reviewText.apply(gensim.utils.simple_preprocess)"
   ]
  },
  {
   "cell_type": "code",
   "execution_count": 17,
   "id": "9e71b8f2",
   "metadata": {},
   "outputs": [
    {
     "data": {
      "text/plain": [
       "0       [like, this, as, vent, as, well, as, something...\n",
       "1                                            [good, item]\n",
       "2                    [fit, my, new, lg, dryer, perfectly]\n",
       "3                    [good, value, for, electric, dryers]\n",
       "4                  [price, and, delivery, was, excellent]\n",
       "                              ...                        \n",
       "2272    [works, great, used, it, and, an, extension, k...\n",
       "2273    [anyone, who, thinks, they, don, have, problem...\n",
       "2274                                               [good]\n",
       "2275                                    [washer, washing]\n",
       "2276                     [great, product, fast, shipping]\n",
       "Name: reviewText, Length: 2277, dtype: object"
      ]
     },
     "execution_count": 17,
     "metadata": {},
     "output_type": "execute_result"
    }
   ],
   "source": [
    "reviewText"
   ]
  },
  {
   "cell_type": "markdown",
   "id": "612dc99d",
   "metadata": {},
   "source": [
    "###### Model Setup: \n",
    "Begin training the model on the reviews dataset. Set the context window to 8, meaning the model should consider 8 words preceding and following the current word. Ensure that only sentences with a minimum of 2 words are included in the training by adjusting the min_count parameter accordingly.\n",
    "\n",
    "The workers parameter specifies the number of CPU threads that will be utilized during the process."
   ]
  },
  {
   "cell_type": "code",
   "execution_count": 28,
   "id": "f32fc09a",
   "metadata": {},
   "outputs": [],
   "source": [
    "from gensim.models import Word2Vec \n",
    "\n",
    "model = Word2Vec( \n",
    "                 window=8, \n",
    "                 min_count=2,\n",
    "                 workers=6)\n",
    "\n"
   ]
  },
  {
   "cell_type": "code",
   "execution_count": 29,
   "id": "52d70c03",
   "metadata": {},
   "outputs": [],
   "source": [
    "# Build vocabulary\n",
    "model.build_vocab(reviewText,\n",
    "                  progress_per=1000)"
   ]
  },
  {
   "cell_type": "markdown",
   "id": "1ba4a959",
   "metadata": {},
   "source": [
    "###  Train the model "
   ]
  },
  {
   "cell_type": "code",
   "execution_count": 30,
   "id": "2a34b561",
   "metadata": {},
   "outputs": [
    {
     "data": {
      "text/plain": [
       "5"
      ]
     },
     "execution_count": 30,
     "metadata": {},
     "output_type": "execute_result"
    }
   ],
   "source": [
    "# Let's check bydefault epochs\n",
    "model.epochs"
   ]
  },
  {
   "cell_type": "code",
   "execution_count": 31,
   "id": "47917701",
   "metadata": {},
   "outputs": [
    {
     "data": {
      "text/plain": [
       "(1297750, 1824300)"
      ]
     },
     "execution_count": 31,
     "metadata": {},
     "output_type": "execute_result"
    }
   ],
   "source": [
    "model.train(reviewText, total_examples=model.corpus_count, epochs=3)\n"
   ]
  },
  {
   "cell_type": "code",
   "execution_count": 32,
   "id": "165f35cb",
   "metadata": {},
   "outputs": [],
   "source": [
    "# Save the model\n",
    "model.save(\"w2v-amazon-Appliances-review.model\")"
   ]
  },
  {
   "cell_type": "markdown",
   "id": "b7f48a41",
   "metadata": {},
   "source": [
    "Now, let's check the model's performance"
   ]
  },
  {
   "cell_type": "code",
   "execution_count": 40,
   "id": "ae2c60a0",
   "metadata": {},
   "outputs": [
    {
     "data": {
      "text/plain": [
       "array([ 0.01955483,  0.026554  ,  0.12635495, -0.01358451,  0.08903369,\n",
       "        0.01314539,  0.02698027,  0.04025428, -0.01104448, -0.01525382,\n",
       "        0.01045332, -0.02405204,  0.02749079,  0.008655  ,  0.0624397 ,\n",
       "       -0.00289201,  0.02717862, -0.06202495, -0.05749196, -0.07579448,\n",
       "        0.05440379, -0.00650001,  0.03160439, -0.00333485,  0.03388236,\n",
       "        0.05081904,  0.03923526, -0.02998827,  0.05778816, -0.03301499,\n",
       "       -0.00275999, -0.06732249,  0.08404669, -0.07702573, -0.00540868,\n",
       "       -0.00895185, -0.00865892, -0.00627251,  0.02088036, -0.04213507,\n",
       "       -0.06489728, -0.04447998,  0.00944065,  0.03026509, -0.01459111,\n",
       "       -0.011775  ,  0.01047484,  0.00696635,  0.01904456,  0.10540314,\n",
       "        0.00980016, -0.04144798, -0.05155573,  0.02541336, -0.01923385,\n",
       "       -0.03410445,  0.05050702,  0.01763752, -0.04362899, -0.02700694,\n",
       "        0.0239468 ,  0.03908361, -0.07309889, -0.00395656, -0.0506328 ,\n",
       "        0.11971781, -0.02126649,  0.11820494, -0.01267322, -0.01676442,\n",
       "       -0.01304897,  0.09053665,  0.08681151,  0.01911283,  0.08686265,\n",
       "        0.00798911,  0.02994606,  0.03665127, -0.07172669,  0.02310702,\n",
       "        0.03038793,  0.03669862, -0.03556693,  0.04799037, -0.01647005,\n",
       "        0.00667236,  0.01546647,  0.09057313, -0.01433588,  0.00082395,\n",
       "        0.04437466, -0.08097904, -0.03807019,  0.03969648,  0.10608124,\n",
       "        0.05015183,  0.01507603, -0.0327072 , -0.0314993 ,  0.00409708],\n",
       "      dtype=float32)"
      ]
     },
     "execution_count": 40,
     "metadata": {},
     "output_type": "execute_result"
    }
   ],
   "source": [
    "# get numpy vector of a word\n",
    "vector = model.wv['excellent']  \n",
    "vector"
   ]
  },
  {
   "cell_type": "code",
   "execution_count": 42,
   "id": "3c3a2fd7",
   "metadata": {},
   "outputs": [
    {
     "data": {
      "text/plain": [
       "[('delivery', 0.8176872730255127),\n",
       " ('charge', 0.8024957180023193),\n",
       " ('batteries', 0.8015746474266052),\n",
       " ('build', 0.774316132068634),\n",
       " ('removes', 0.739495575428009)]"
      ]
     },
     "execution_count": 42,
     "metadata": {},
     "output_type": "execute_result"
    }
   ],
   "source": [
    " # get other similar words (give me top 5)\n",
    "model.wv.most_similar(\"excellent\", topn = 5)"
   ]
  },
  {
   "cell_type": "code",
   "execution_count": 43,
   "id": "7b5a190e",
   "metadata": {},
   "outputs": [
    {
     "data": {
      "text/plain": [
       "0.8176872"
      ]
     },
     "execution_count": 43,
     "metadata": {},
     "output_type": "execute_result"
    }
   ],
   "source": [
    "# Let's find the similary between these words\n",
    "model.wv.similarity(w1=\"excellent\", w2=\"delivery\")\n"
   ]
  },
  {
   "cell_type": "code",
   "execution_count": 44,
   "id": "835c393b",
   "metadata": {},
   "outputs": [
    {
     "data": {
      "text/plain": [
       "0.80249566"
      ]
     },
     "execution_count": 44,
     "metadata": {},
     "output_type": "execute_result"
    }
   ],
   "source": [
    "model.wv.similarity(w1=\"excellent\", w2=\"charge\")"
   ]
  },
  {
   "cell_type": "code",
   "execution_count": null,
   "id": "dd85f67c",
   "metadata": {},
   "outputs": [],
   "source": []
  }
 ],
 "metadata": {
  "kernelspec": {
   "display_name": "Python 3 (ipykernel)",
   "language": "python",
   "name": "python3"
  },
  "language_info": {
   "codemirror_mode": {
    "name": "ipython",
    "version": 3
   },
   "file_extension": ".py",
   "mimetype": "text/x-python",
   "name": "python",
   "nbconvert_exporter": "python",
   "pygments_lexer": "ipython3",
   "version": "3.9.13"
  }
 },
 "nbformat": 4,
 "nbformat_minor": 5
}
